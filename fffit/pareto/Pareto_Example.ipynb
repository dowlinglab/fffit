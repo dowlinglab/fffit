{
 "cells": [
  {
   "cell_type": "markdown",
   "metadata": {},
   "source": [
    "# Determining a Pareto Efficient Set\n",
    "\n",
    "Resources:\n",
    "\n",
    "https://stackoverflow.com/questions/32791911/fast-calculation-of-pareto-front-in-python\n",
    "\n",
    "http://code.activestate.com/recipes/578287-multidimensional-pareto-front/\n",
    "\n",
    "https://oapackage.readthedocs.io/en/latest/examples/example_pareto.html"
   ]
  },
  {
   "cell_type": "markdown",
   "metadata": {},
   "source": [
    "## Import"
   ]
  },
  {
   "cell_type": "code",
   "execution_count": null,
   "metadata": {},
   "outputs": [],
   "source": [
    "import numpy as np\n",
    "import matplotlib.pyplot as plt\n",
    "import timeit"
   ]
  },
  {
   "cell_type": "markdown",
   "metadata": {},
   "source": [
    "## Functions\n",
    "\n",
    "Note: The pareto sets for these functions are searching for the higest, not lowest, objective function values. Signs need to be flipped if searching for the lowest values."
   ]
  },
  {
   "cell_type": "markdown",
   "metadata": {},
   "source": [
    "### Pareto Set Comparison"
   ]
  },
  {
   "cell_type": "code",
   "execution_count": null,
   "metadata": {},
   "outputs": [],
   "source": [
    "def compare_pareto_sets(set1,set2):\n",
    "    '''\n",
    "    Function which compares two pareto sets *Only works if the pareto sets have the same order\n",
    "    \n",
    "    Inputs:\n",
    "    set1, set2 -- pareto set\n",
    "    \n",
    "    Output:\n",
    "    similarity -- if True, pareto sets are the same\n",
    "    '''\n",
    "    compare = set1 == set2\n",
    "#     print(compare)\n",
    "    similar = compare.all()\n",
    "    return similar"
   ]
  },
  {
   "cell_type": "markdown",
   "metadata": {},
   "source": [
    "### Dominates"
   ]
  },
  {
   "cell_type": "code",
   "execution_count": null,
   "metadata": {},
   "outputs": [],
   "source": [
    "def dominates(row, candidateRow):\n",
    "    '''\n",
    "    Function to determine if a set of costs (objective function values) \"dominates\" or is better than another row of costs.\n",
    "    \n",
    "    Inputs:\n",
    "    row -- set of multiple costs to compare against\n",
    "    candidate row -- set of multiple costs that is compared to row to see if it is better\n",
    "    \n",
    "    Output:\n",
    "    True/False\n",
    "        -if True: each cost value of the row set is greater than or equal to the candidate row set; the row set dominates\n",
    "        -if False: at least one of the cost values of the row set is smaller than the candidate row set; the candidate row set dominates\n",
    "    '''\n",
    "    return sum([row[x] >= candidateRow[x] for x in range(len(row))]) == len(row) \n",
    "\n"
   ]
  },
  {
   "cell_type": "markdown",
   "metadata": {},
   "source": [
    "#### Test: dominates\n",
    "\n",
    "Change the row and candidateRow sets to test. \n"
   ]
  },
  {
   "cell_type": "code",
   "execution_count": null,
   "metadata": {},
   "outputs": [],
   "source": [
    "row = [0,0,0]\n",
    "candidateRow = [0,0,0]\n",
    "dominates(row,candidateRow)"
   ]
  },
  {
   "cell_type": "markdown",
   "metadata": {},
   "source": [
    "### Simple Cull\n",
    "\n",
    "Finds the pareto set\n",
    "\n",
    "*add a line which automatically puts the sets of costs in which one of the costs is the best out of all of that type of cost in the pareto set?\n",
    "--I don't think this is necessary\n",
    "\n",
    "*just because a row may be worse than a candidate row does not mean it is outside the pareto set?\n",
    "\n",
    "*THis is when looking for the highest cost value in a set"
   ]
  },
  {
   "cell_type": "code",
   "execution_count": null,
   "metadata": {},
   "outputs": [],
   "source": [
    "def simple_cull(inputPoints, dominates):\n",
    "    '''\n",
    "    Function which takes evaluates lists of multiple costs against eachother to determine a pareto optimal set\n",
    "    \n",
    "    Inputs:\n",
    "    inputPoints --  list of lists of cost values\n",
    "    dominates -- the dominates function\n",
    "    \n",
    "    Output:\n",
    "    pareto points -- list of lists that are in the pareto  (dominant) set\n",
    "    dominated points -- list of lists that are in the dominated set (not pareto optimal)\n",
    "    \n",
    "    '''\n",
    "    \n",
    "    #Make an empty set in which to put the pareto optimal cost sets\n",
    "    paretoPoints = set()\n",
    "    #Initialize candidate row\n",
    "    candidateRowNr = 0\n",
    "    #Make an empty set in which to put the dominated cost sets\n",
    "    dominatedPoints = set()\n",
    "    \n",
    "    while True:\n",
    "        #Grab candidate row from the input list of cost sets and remove it from the input list for testing\n",
    "        candidateRow = inputPoints[candidateRowNr]\n",
    "        inputPoints.remove(candidateRow)\n",
    "        #Initialize row number which will be compared with candidate row\n",
    "        rowNr = 0\n",
    "        \n",
    "        #Flag indicating the candidate set has not been dominated \n",
    "        nonDominated = True\n",
    "        \n",
    "        #while loop: ends when there are no more input points (all the input points have been placed in either the pareto or dominated sets) and the row the entire input sets has not been enumerated through\n",
    "        while len(inputPoints) != 0 and rowNr < len(inputPoints):\n",
    "            #make comparison row the row number the loop is on\n",
    "            row = inputPoints[rowNr]\n",
    "            \n",
    "            #apply dominates function\n",
    "            if dominates(candidateRow, row): #If this is true: candidate row costs are all better than the row compared against\n",
    "                # If it is worse on all features remove the row from the input array and place in dominated set\n",
    "                # this indicates the row set is dominated\n",
    "                inputPoints.remove(row)\n",
    "                dominatedPoints.add(tuple(row))\n",
    "            \n",
    "            elif dominates(row, candidateRow): #if this is true: the row costs are all better than the candidate row costs compared against\n",
    "                #this indicates the candidate set is dominated, end this loop and pick a new candidate row\n",
    "                nonDominated = False\n",
    "                dominatedPoints.add(tuple(candidateRow))\n",
    "                rowNr += 1\n",
    "            \n",
    "            else: #if both of the above are false, neither the candidate row nor the comparison are dominated, so leave the row in the input points and compare the candidate row to the next row\n",
    "                rowNr += 1\n",
    "\n",
    "        if nonDominated:\n",
    "            # add the non-dominated point to the Pareto frontier\n",
    "            paretoPoints.add(tuple(candidateRow))\n",
    "        \n",
    "        # if there are no more input rows to compare\n",
    "        if len(inputPoints) == 0:\n",
    "            break\n",
    "    \n",
    "    return paretoPoints, dominatedPoints"
   ]
  },
  {
   "cell_type": "markdown",
   "metadata": {},
   "source": [
    "#### Test: simple cull\n",
    "\n",
    "Give a set of input points, can change to test. "
   ]
  },
  {
   "cell_type": "code",
   "execution_count": null,
   "metadata": {},
   "outputs": [],
   "source": [
    "inputPoints = [[1,0,0],[0,1,0],[0,0,1],[1,0,1]]\n",
    "paretoPoints, dominatedPoints = simple_cull(inputPoints, dominates)"
   ]
  },
  {
   "cell_type": "code",
   "execution_count": null,
   "metadata": {},
   "outputs": [],
   "source": [
    "paretoPoints"
   ]
  },
  {
   "cell_type": "code",
   "execution_count": null,
   "metadata": {},
   "outputs": [],
   "source": [
    "dominatedPoints"
   ]
  },
  {
   "cell_type": "markdown",
   "metadata": {},
   "source": [
    "Test on 2d data"
   ]
  },
  {
   "cell_type": "code",
   "execution_count": null,
   "metadata": {},
   "outputs": [],
   "source": [
    "#X cost sets with two types of cost/set\n",
    "data=np.random.rand(2,10)\n",
    "plt.plot(data[0,:],data[1,:],'.b',label='Original Data')\n",
    "plt.xlabel('Objective 1')\n",
    "plt.ylabel('Object 2')\n",
    "plt.legend()"
   ]
  },
  {
   "cell_type": "code",
   "execution_count": null,
   "metadata": {},
   "outputs": [],
   "source": [
    "data = data.T\n",
    "data = data.tolist()"
   ]
  },
  {
   "cell_type": "code",
   "execution_count": null,
   "metadata": {},
   "outputs": [],
   "source": [
    "paretoPoints, dominatedPoints = simple_cull(data, dominates)"
   ]
  },
  {
   "cell_type": "code",
   "execution_count": null,
   "metadata": {},
   "outputs": [],
   "source": [
    "paretoPoints"
   ]
  },
  {
   "cell_type": "code",
   "execution_count": null,
   "metadata": {},
   "outputs": [],
   "source": [
    "dominatedPoints"
   ]
  },
  {
   "cell_type": "code",
   "execution_count": null,
   "metadata": {},
   "outputs": [],
   "source": [
    "paretoPoints = np.array(list(paretoPoints))\n",
    "dominatedPoints = np.array(list(dominatedPoints))"
   ]
  },
  {
   "cell_type": "code",
   "execution_count": null,
   "metadata": {},
   "outputs": [],
   "source": [
    "plt.plot(paretoPoints[:,0],paretoPoints[:,1],'.r',label='Pareto Points')\n",
    "plt.plot(dominatedPoints[:,0],dominatedPoints[:,1],'.b',label='Dominated Points')\n",
    "plt.xlabel('Objective 1')\n",
    "plt.ylabel('Object 2')\n",
    "plt.legend()"
   ]
  },
  {
   "cell_type": "markdown",
   "metadata": {},
   "source": [
    "Observations:\n",
    "\n",
    "1. For two costs, runs quickly for 1000 points"
   ]
  },
  {
   "cell_type": "markdown",
   "metadata": {},
   "source": [
    "Test on higher dimensional data"
   ]
  },
  {
   "cell_type": "code",
   "execution_count": null,
   "metadata": {},
   "outputs": [],
   "source": [
    "data=np.random.rand(4,10000)\n",
    "data = data.T\n",
    "data = data.tolist()"
   ]
  },
  {
   "cell_type": "code",
   "execution_count": null,
   "metadata": {},
   "outputs": [],
   "source": [
    "paretoPoints, dominatedPoints = simple_cull(data, dominates)"
   ]
  },
  {
   "cell_type": "markdown",
   "metadata": {},
   "source": [
    "Observations:\n",
    "    \n",
    "    1. For 4 costs, 10000 points, simple cull still runs quickly (~<1s)\n",
    "    2. Takes a lot more time with 100K points (about a minute?)\n",
    "    3. Need to test out efficiency opportunities"
   ]
  },
  {
   "cell_type": "markdown",
   "metadata": {},
   "source": [
    "### Is_pareto_efficient_dumb\n",
    "*This is when looking for the highest cost value in a set"
   ]
  },
  {
   "cell_type": "code",
   "execution_count": null,
   "metadata": {},
   "outputs": [],
   "source": [
    "def is_pareto_efficient_dumb(costs):\n",
    "    '''\n",
    "    Function to find the pareto-efficient points, fast for many costs, but slow for many datapoints\n",
    "    \n",
    "    Inputs:\n",
    "    costs -- An (n_points, n_costs) array\n",
    "    \n",
    "    Output:\n",
    "    is_efficient -- A (n_points, ) boolean array, indicating whether each point is Pareto efficient\n",
    "    '''\n",
    "    #Make an output array\n",
    "    is_efficient = np.ones(costs.shape[0], dtype = bool)\n",
    "    \n",
    "    for i, c in enumerate(costs):\n",
    "        #for position i in the is_efficient output set\n",
    "        #costs[:i] -- all of the rows of costs leading up to row i\n",
    "        #costs[:i]>c -- check whether for all of the rows leading up to row i, a cost in a given row is bigger than a cost c in the row i\n",
    "        #np.any(costs[:i]>c,axis=1) -- evaluates this for any cost in a given row\n",
    "        #np.all(np.any(costs[:i]>c,axis=1)) -- evaluates this is true for all rows?\n",
    "        #same for all rows after row i\n",
    "        is_efficient[i] = np.all(np.any(costs[:i]<c, axis=1)) and np.all(np.any(costs[i+1:]<c, axis=1)) #changed to <\n",
    "    return is_efficient"
   ]
  },
  {
   "cell_type": "markdown",
   "metadata": {},
   "source": [
    "#### Test: is pareto efficient dumb\n",
    "\n",
    "Give a set of input points, can change to test. "
   ]
  },
  {
   "cell_type": "code",
   "execution_count": null,
   "metadata": {},
   "outputs": [],
   "source": [
    "inputPoints = np.array([[1,0,0],[0,1,0],[0,0,1],[1,0,1]])"
   ]
  },
  {
   "cell_type": "code",
   "execution_count": null,
   "metadata": {},
   "outputs": [],
   "source": [
    "result = is_pareto_efficient_dumb(inputPoints)\n",
    "result"
   ]
  },
  {
   "cell_type": "markdown",
   "metadata": {},
   "source": [
    "Test on 2d data"
   ]
  },
  {
   "cell_type": "code",
   "execution_count": null,
   "metadata": {},
   "outputs": [],
   "source": [
    "#X cost sets with two types of cost/set\n",
    "data=np.random.rand(2,10000)\n",
    "plt.plot(data[0,:],data[1,:],'.b',label='Original Data')\n",
    "plt.xlabel('Objective 1')\n",
    "plt.ylabel('Object 2')\n",
    "plt.legend()"
   ]
  },
  {
   "cell_type": "code",
   "execution_count": null,
   "metadata": {},
   "outputs": [],
   "source": [
    "data = data.T"
   ]
  },
  {
   "cell_type": "code",
   "execution_count": null,
   "metadata": {},
   "outputs": [],
   "source": [
    "result = is_pareto_efficient_dumb(data)"
   ]
  },
  {
   "cell_type": "code",
   "execution_count": null,
   "metadata": {},
   "outputs": [],
   "source": [
    "data = data.tolist()\n",
    "paretoPoints=[]\n",
    "dominatedPoints=[]\n",
    "for i in range(len(data)):\n",
    "    if result[i] == True:\n",
    "        paretoPoints.append(data[i])\n",
    "    else:\n",
    "        dominatedPoints.append(data[i])"
   ]
  },
  {
   "cell_type": "code",
   "execution_count": null,
   "metadata": {},
   "outputs": [],
   "source": [
    "paretoPoints = np.array(paretoPoints)"
   ]
  },
  {
   "cell_type": "code",
   "execution_count": null,
   "metadata": {},
   "outputs": [],
   "source": [
    "dominatedPoints = np.array(dominatedPoints)"
   ]
  },
  {
   "cell_type": "code",
   "execution_count": null,
   "metadata": {},
   "outputs": [],
   "source": [
    "plt.plot(paretoPoints[:,0],paretoPoints[:,1],'.r',label='Pareto Points')\n",
    "plt.plot(dominatedPoints[:,0],dominatedPoints[:,1],'.b',label='Dominated Points')\n",
    "plt.xlabel('Objective 1')\n",
    "plt.ylabel('Object 2')\n",
    "plt.legend()"
   ]
  },
  {
   "cell_type": "markdown",
   "metadata": {},
   "source": [
    "Test on higher dimensional data:"
   ]
  },
  {
   "cell_type": "code",
   "execution_count": null,
   "metadata": {},
   "outputs": [],
   "source": [
    "data=np.random.rand(4,1000000)\n",
    "data = data.T\n",
    "result = is_pareto_efficient_dumb(data)"
   ]
  },
  {
   "cell_type": "markdown",
   "metadata": {},
   "source": [
    "Observations:\n",
    "    \n",
    "    1. Seems to run quicly for 10000 points in 2d\n",
    "    2. With 4 costs, runs quickly for 10000 datapoints\n",
    "    3. Took a little longer with 100000 points\n",
    "    4. >11 minutes with 1 mil points, 4 costs"
   ]
  },
  {
   "cell_type": "markdown",
   "metadata": {},
   "source": [
    "### Is_pareto_efficient_simple\n",
    "\n",
    "*This is when looking for the highest cost value in a set (need to change sign otherwise)"
   ]
  },
  {
   "cell_type": "code",
   "execution_count": null,
   "metadata": {},
   "outputs": [],
   "source": [
    "def is_pareto_efficient_simple(costs):\n",
    "    '''\n",
    "    Function to find the pareto-efficient points, fast for many datapoints, but slower for multiple costs. Function updates its knowledge of efficiency after evaluating each row.\n",
    "    \n",
    "    Inputs:\n",
    "    costs -- An (n_points, n_costs) array\n",
    "    \n",
    "    Output:\n",
    "    is_efficient -- A (n_points, ) boolean array, indicating whether each point is Pareto efficient\n",
    "    '''\n",
    "    #Make an output array\n",
    "    is_efficient = np.ones(costs.shape[0], dtype = bool)\n",
    "    \n",
    "    #for row i and cost value c in the costs array\n",
    "    for i, c in enumerate(costs):\n",
    "        #look at a specific row\n",
    "        if is_efficient[i]:\n",
    "            #check row against all others and assign them is_efficient values (True/False) dependin on if they have better/worse values than the current row, thus is efficient is continuously updated with new information\n",
    "            is_efficient[is_efficient] = np.any(costs[is_efficient]>c, axis=1)  \n",
    "            is_efficient[i] = True  ## And list index i as efficient... this will change as other row evaluations are done\n",
    "       \n",
    "    return is_efficient"
   ]
  },
  {
   "cell_type": "markdown",
   "metadata": {},
   "source": [
    "#### Test: is pareto efficient simple\n",
    "\n",
    "Give a set of input points, can change to test. "
   ]
  },
  {
   "cell_type": "code",
   "execution_count": null,
   "metadata": {},
   "outputs": [],
   "source": [
    "inputPoints = np.array([[1,0,0],[0,1,0],[0,0,1],[1,0,1]])"
   ]
  },
  {
   "cell_type": "code",
   "execution_count": null,
   "metadata": {},
   "outputs": [],
   "source": [
    "result = is_pareto_efficient_simple(inputPoints)\n",
    "result"
   ]
  },
  {
   "cell_type": "markdown",
   "metadata": {},
   "source": [
    "Test on 2d data"
   ]
  },
  {
   "cell_type": "code",
   "execution_count": null,
   "metadata": {},
   "outputs": [],
   "source": [
    "#X cost sets with two types of cost/set\n",
    "data=np.random.rand(2,10000)\n",
    "plt.plot(data[0,:],data[1,:],'.b',label='Original Data')\n",
    "plt.xlabel('Objective 1')\n",
    "plt.ylabel('Object 2')\n",
    "plt.legend()"
   ]
  },
  {
   "cell_type": "code",
   "execution_count": null,
   "metadata": {},
   "outputs": [],
   "source": [
    "data = data.T"
   ]
  },
  {
   "cell_type": "code",
   "execution_count": null,
   "metadata": {},
   "outputs": [],
   "source": [
    "result = is_pareto_efficient_simple(data)"
   ]
  },
  {
   "cell_type": "code",
   "execution_count": null,
   "metadata": {},
   "outputs": [],
   "source": [
    "data = data.tolist()\n",
    "paretoPoints=[]\n",
    "dominatedPoints=[]\n",
    "for i in range(len(data)):\n",
    "    if result[i] == True:\n",
    "        paretoPoints.append(data[i])\n",
    "    else:\n",
    "        dominatedPoints.append(data[i])"
   ]
  },
  {
   "cell_type": "code",
   "execution_count": null,
   "metadata": {},
   "outputs": [],
   "source": [
    "paretoPoints = np.array(paretoPoints)"
   ]
  },
  {
   "cell_type": "code",
   "execution_count": null,
   "metadata": {},
   "outputs": [],
   "source": [
    "dominatedPoints = np.array(dominatedPoints)"
   ]
  },
  {
   "cell_type": "code",
   "execution_count": null,
   "metadata": {},
   "outputs": [],
   "source": [
    "plt.plot(paretoPoints[:,0],paretoPoints[:,1],'.r',label='Pareto Points')\n",
    "plt.plot(dominatedPoints[:,0],dominatedPoints[:,1],'.b',label='Dominated Points')\n",
    "plt.xlabel('Objective 1')\n",
    "plt.ylabel('Object 2')\n",
    "plt.legend()"
   ]
  },
  {
   "cell_type": "markdown",
   "metadata": {},
   "source": [
    "Test on higher dimensional points"
   ]
  },
  {
   "cell_type": "code",
   "execution_count": null,
   "metadata": {},
   "outputs": [],
   "source": [
    "data=np.random.rand(4,1000000)\n",
    "data = data.T\n",
    "result = is_pareto_efficient_simple(data)"
   ]
  },
  {
   "cell_type": "markdown",
   "metadata": {},
   "source": [
    "Observations:\n",
    "    \n",
    "    1. Seems to run quicly for 10000 points in 2d\n",
    "    2. With 4 costs, runs quickly for 10000 datapoints\n",
    "    3. Runs quickly with 100000 points\n",
    "    4. Runs in seconds with 1 mil points, 4 costs"
   ]
  },
  {
   "cell_type": "markdown",
   "metadata": {},
   "source": [
    "### Is_pareto_efficient\n",
    "\n",
    "*This is when looking for the highest cost value in a set (need to change sign otherwise)"
   ]
  },
  {
   "cell_type": "code",
   "execution_count": null,
   "metadata": {},
   "outputs": [],
   "source": [
    "def is_pareto_efficient(costs, return_mask = True):\n",
    "    '''\n",
    "    Function to find the pareto-efficient points, fast for many datapoints, but slower for multiple costs; faster than pareto efficient simple; constantly updates pareto information, moves fast because it removes previously dominated points from comparison\n",
    "    \n",
    "    Inputs:\n",
    "    costs -- An (n_points, n_costs) array\n",
    "    return_mask -- True to return a mask\n",
    "    \n",
    "    Output:\n",
    "    is_efficient -- An array of indices of pareto-efficient points.\n",
    "        *If return_mask is True, this will be an (n_points, ) boolean array\n",
    "        Otherwise it will be a (n_efficient_points, ) integer array of indices.\n",
    "    '''\n",
    "    #make array of the indices of the costs [0,1,2...len(cost)]\n",
    "    is_efficient = np.arange(costs.shape[0])\n",
    "    \n",
    "    #number of points (number of rows of costs array)\n",
    "    n_points = costs.shape[0]\n",
    "    \n",
    "    next_point_index = 0  # Initialize next point counter\n",
    "    \n",
    "    #do until the input array has been searched through\n",
    "    while next_point_index<len(costs):\n",
    "        \n",
    "        nondominated_point_mask = np.any(costs>costs[next_point_index], axis=1)#true/false array for whether the costs of the current row are greater/less than the costs in the other rows\n",
    "        #assign true value for row being examined\n",
    "        nondominated_point_mask[next_point_index] = True\n",
    "        is_efficient = is_efficient[nondominated_point_mask]  # Apply non_dominated points mask to is_efficient array\n",
    "        #costs/input file now contains only nondominated points so far\n",
    "        costs = costs[nondominated_point_mask]\n",
    "        #next point to examine is the sum of the T/F values up to the previous point plus 1\n",
    "        next_point_index = np.sum(nondominated_point_mask[:next_point_index])+1\n",
    "        \n",
    "    #if the return maks is true, the output is a boolean array, otherwise it will just be the indices of the efficient points\n",
    "    if return_mask:\n",
    "        is_efficient_mask = np.zeros(n_points, dtype = bool)\n",
    "        is_efficient_mask[is_efficient] = True\n",
    "        return is_efficient_mask\n",
    "    else:\n",
    "        return is_efficient"
   ]
  },
  {
   "cell_type": "markdown",
   "metadata": {},
   "source": [
    "#### Test: is pareto efficient \n",
    "\n",
    "Give a set of input points, can change to test. "
   ]
  },
  {
   "cell_type": "code",
   "execution_count": null,
   "metadata": {},
   "outputs": [],
   "source": [
    "inputPoints = np.array([[1,0,0],[0,1,0],[0,0,1],[1,0,1]])"
   ]
  },
  {
   "cell_type": "code",
   "execution_count": null,
   "metadata": {},
   "outputs": [],
   "source": [
    "result = is_pareto_efficient(inputPoints)\n",
    "result"
   ]
  },
  {
   "cell_type": "markdown",
   "metadata": {},
   "source": [
    "Test on 2d data"
   ]
  },
  {
   "cell_type": "code",
   "execution_count": null,
   "metadata": {},
   "outputs": [],
   "source": [
    "#X cost sets with two types of cost/set\n",
    "data=np.random.rand(2,10000)\n",
    "plt.plot(data[0,:],data[1,:],'.b',label='Original Data')\n",
    "plt.xlabel('Objective 1')\n",
    "plt.ylabel('Object 2')\n",
    "plt.legend()"
   ]
  },
  {
   "cell_type": "code",
   "execution_count": null,
   "metadata": {},
   "outputs": [],
   "source": [
    "data = data.T"
   ]
  },
  {
   "cell_type": "code",
   "execution_count": null,
   "metadata": {},
   "outputs": [],
   "source": [
    "result = is_pareto_efficient(data)"
   ]
  },
  {
   "cell_type": "code",
   "execution_count": null,
   "metadata": {},
   "outputs": [],
   "source": [
    "data = data.tolist()\n",
    "paretoPoints=[]\n",
    "dominatedPoints=[]\n",
    "for i in range(len(data)):\n",
    "    if result[i] == True:\n",
    "        paretoPoints.append(data[i])\n",
    "    else:\n",
    "        dominatedPoints.append(data[i])"
   ]
  },
  {
   "cell_type": "code",
   "execution_count": null,
   "metadata": {},
   "outputs": [],
   "source": [
    "paretoPoints = np.array(paretoPoints)"
   ]
  },
  {
   "cell_type": "code",
   "execution_count": null,
   "metadata": {},
   "outputs": [],
   "source": [
    "dominatedPoints = np.array(dominatedPoints)"
   ]
  },
  {
   "cell_type": "code",
   "execution_count": null,
   "metadata": {},
   "outputs": [],
   "source": [
    "plt.plot(paretoPoints[:,0],paretoPoints[:,1],'.r',label='Pareto Points')\n",
    "plt.plot(dominatedPoints[:,0],dominatedPoints[:,1],'.b',label='Dominated Points')\n",
    "plt.xlabel('Objective 1')\n",
    "plt.ylabel('Object 2')\n",
    "plt.legend()"
   ]
  },
  {
   "cell_type": "markdown",
   "metadata": {},
   "source": [
    "Test on higher dimensional data"
   ]
  },
  {
   "cell_type": "code",
   "execution_count": null,
   "metadata": {},
   "outputs": [],
   "source": [
    "data=np.random.rand(4,1000000)\n",
    "data = data.T\n",
    "result = is_pareto_efficient(data)"
   ]
  },
  {
   "cell_type": "markdown",
   "metadata": {},
   "source": [
    "Observations:\n",
    "    \n",
    "    1. Seems to run quicly for 10000 points in 2d\n",
    "    2. With 4 costs, runs quickly for 10000 datapoints\n",
    "    3. Runs quickly with 100000 points\n",
    "    4. Runs in seconds with 1 mil points, 4 costs"
   ]
  },
  {
   "cell_type": "markdown",
   "metadata": {},
   "source": [
    "### Test all against the same dataset"
   ]
  },
  {
   "cell_type": "markdown",
   "metadata": {},
   "source": [
    "#### 2D data (100 points)"
   ]
  },
  {
   "cell_type": "code",
   "execution_count": null,
   "metadata": {},
   "outputs": [],
   "source": [
    "data_2D=np.random.rand(2,10)\n",
    "data_SC = data_2D\n",
    "data_dumb = data_2D\n",
    "data_simple = data_2D\n",
    "data_efficient = data_2D"
   ]
  },
  {
   "cell_type": "code",
   "execution_count": null,
   "metadata": {},
   "outputs": [],
   "source": [
    "plt.plot(data_2D[0,:],data_2D[1,:],'.b',label='Original Data')\n",
    "plt.xlabel('Objective 1')\n",
    "plt.ylabel('Object 2')\n",
    "plt.legend()"
   ]
  },
  {
   "cell_type": "markdown",
   "metadata": {},
   "source": [
    "##### Simple cull"
   ]
  },
  {
   "cell_type": "code",
   "execution_count": null,
   "metadata": {},
   "outputs": [],
   "source": [
    "data_SC = data_SC.T\n",
    "data_list_SC = data_SC.tolist()\n",
    "paretoPoints_SC, dominatedPoints_SC = simple_cull(data_list_SC, dominates)\n",
    "paretoPoints_SC = np.array(list(paretoPoints_SC))\n",
    "dominatedPoints_SC = np.array(list(dominatedPoints_SC))\n",
    "plt.plot(paretoPoints_SC[:,0],paretoPoints_SC[:,1],'.r',label='Pareto Points')\n",
    "plt.plot(dominatedPoints_SC[:,0],dominatedPoints_SC[:,1],'.b',label='Dominated Points')\n",
    "plt.xlabel('Objective 1')\n",
    "plt.ylabel('Object 2')\n",
    "plt.title('Simple Cull')\n",
    "plt.legend()\n",
    "print(\"Pareto Optimal Points:\",paretoPoints_SC)"
   ]
  },
  {
   "cell_type": "markdown",
   "metadata": {},
   "source": [
    "##### Is pareto efficient dumb"
   ]
  },
  {
   "cell_type": "code",
   "execution_count": null,
   "metadata": {},
   "outputs": [],
   "source": [
    "data_dumb=data_dumb.T\n",
    "result = is_pareto_efficient_dumb(data_dumb)"
   ]
  },
  {
   "cell_type": "code",
   "execution_count": null,
   "metadata": {},
   "outputs": [],
   "source": [
    "data_list_dumb = data_dumb.tolist()\n",
    "paretoPoints=[]\n",
    "dominatedPoints=[]\n",
    "for i in range(len(data_list_dumb)):\n",
    "    if result[i] == True:\n",
    "        paretoPoints.append(data_list_dumb[i])\n",
    "    else:\n",
    "        dominatedPoints.append(data_list_dumb[i])"
   ]
  },
  {
   "cell_type": "code",
   "execution_count": null,
   "metadata": {},
   "outputs": [],
   "source": [
    "paretoPoints = np.array(paretoPoints)\n",
    "dominatedPoints = np.array(dominatedPoints)"
   ]
  },
  {
   "cell_type": "code",
   "execution_count": null,
   "metadata": {},
   "outputs": [],
   "source": [
    "plt.plot(paretoPoints[:,0],paretoPoints[:,1],'.r',label='Pareto Points')\n",
    "plt.plot(dominatedPoints[:,0],dominatedPoints[:,1],'.b',label='Dominated Points')\n",
    "plt.xlabel('Objective 1')\n",
    "plt.ylabel('Object 2')\n",
    "plt.title('Pareto Efficient Dumb')\n",
    "plt.legend()\n",
    "print(\"Pareto Optimal Points:\",paretoPoints)"
   ]
  },
  {
   "cell_type": "markdown",
   "metadata": {},
   "source": [
    "##### is pareto efficient simple"
   ]
  },
  {
   "cell_type": "code",
   "execution_count": null,
   "metadata": {},
   "outputs": [],
   "source": [
    "data_simple = data_simple.T\n",
    "result = is_pareto_efficient_simple(data_simple)\n",
    "data_list_simple = data_simple.tolist()\n",
    "paretoPoints=[]\n",
    "dominatedPoints=[]\n",
    "for i in range(len(data_list_simple)):\n",
    "    if result[i] == True:\n",
    "        paretoPoints.append(data_list_simple[i])\n",
    "    else:\n",
    "        dominatedPoints.append(data_list_simple[i])\n",
    "paretoPoints = np.array(paretoPoints)\n",
    "dominatedPoints = np.array(dominatedPoints)\n",
    "plt.plot(paretoPoints[:,0],paretoPoints[:,1],'.r',label='Pareto Points')\n",
    "plt.plot(dominatedPoints[:,0],dominatedPoints[:,1],'.b',label='Dominated Points')\n",
    "plt.xlabel('Objective 1')\n",
    "plt.ylabel('Object 2')\n",
    "plt.title('Pareto Efficient Simple')\n",
    "plt.legend()\n",
    "print(\"Pareto Optimal Points:\",paretoPoints)"
   ]
  },
  {
   "cell_type": "markdown",
   "metadata": {},
   "source": [
    "##### is pareto efficient "
   ]
  },
  {
   "cell_type": "code",
   "execution_count": null,
   "metadata": {},
   "outputs": [],
   "source": [
    "data_efficient = data_efficient.T\n",
    "result = is_pareto_efficient(data_efficient)\n",
    "data_list_efficient = data_efficient.tolist()\n",
    "paretoPoints=[]\n",
    "dominatedPoints=[]\n",
    "for i in range(len(data_list_efficient)):\n",
    "    if result[i] == True:\n",
    "        paretoPoints.append(data_list_efficient[i])\n",
    "    else:\n",
    "        dominatedPoints.append(data_list_efficient[i])\n",
    "paretoPoints = np.array(paretoPoints)\n",
    "dominatedPoints = np.array(dominatedPoints)\n",
    "plt.plot(paretoPoints[:,0],paretoPoints[:,1],'.r',label='Pareto Points')\n",
    "plt.plot(dominatedPoints[:,0],dominatedPoints[:,1],'.b',label='Dominated Points')\n",
    "plt.xlabel('Objective 1')\n",
    "plt.ylabel('Object 2')\n",
    "plt.title('Pareto Efficient')\n",
    "plt.legend()\n",
    "print(\"Pareto Optimal Points:\",paretoPoints)"
   ]
  },
  {
   "cell_type": "markdown",
   "metadata": {},
   "source": [
    "#### 4D data (100 points)"
   ]
  },
  {
   "cell_type": "code",
   "execution_count": null,
   "metadata": {},
   "outputs": [],
   "source": [
    "data_4D=np.random.rand(4,100)\n",
    "data_SC = data_4D\n",
    "data_dumb = data_4D\n",
    "data_simple = data_4D\n",
    "data_efficient = data_4D"
   ]
  },
  {
   "cell_type": "markdown",
   "metadata": {},
   "source": [
    "##### Simple Cull"
   ]
  },
  {
   "cell_type": "code",
   "execution_count": null,
   "metadata": {},
   "outputs": [],
   "source": [
    "start = timeit.default_timer()\n",
    "data_SC = data_SC.T\n",
    "data_list_SC = data_SC.tolist()\n",
    "paretoPoints, dominatedPoints = simple_cull(data_list_SC, dominates)\n",
    "paretoPoints_SC = np.array(list(paretoPoints))\n",
    "dominatedPoints_SC = np.array(list(dominatedPoints))\n",
    "stop = timeit.default_timer()\n",
    "\n",
    "print(\"Number of Pareto Optimal Points\", len(paretoPoints_SC))\n",
    "\n",
    "print(\"Pareto Optimal Points:\",paretoPoints_SC)\n",
    "\n",
    "print('Time:',stop-start)"
   ]
  },
  {
   "cell_type": "markdown",
   "metadata": {},
   "source": [
    "##### Pareto Dumb"
   ]
  },
  {
   "cell_type": "code",
   "execution_count": null,
   "metadata": {},
   "outputs": [],
   "source": [
    "start = timeit.default_timer()\n",
    "data_dumb=data_dumb.T\n",
    "result = is_pareto_efficient_dumb(data_dumb)\n",
    "data_list_dumb = data_dumb.tolist()\n",
    "paretoPoints=[]\n",
    "dominatedPoints=[]\n",
    "for i in range(len(data_list_dumb)):\n",
    "    if result[i] == True:\n",
    "        paretoPoints.append(data_list_dumb[i])\n",
    "    else:\n",
    "        dominatedPoints.append(data_list_dumb[i])\n",
    "paretoPoints_dumb = np.array(paretoPoints)\n",
    "dominatedPoints = np.array(dominatedPoints)\n",
    "stop = timeit.default_timer()\n",
    "\n",
    "print(\"Number of Pareto Optimal Points\", len(paretoPoints_dumb))\n",
    "\n",
    "print(\"Pareto Optimal Points:\",paretoPoints_dumb)\n",
    "\n",
    "print('Time:',stop-start)"
   ]
  },
  {
   "cell_type": "markdown",
   "metadata": {},
   "source": [
    "##### Pareto Simple"
   ]
  },
  {
   "cell_type": "code",
   "execution_count": null,
   "metadata": {},
   "outputs": [],
   "source": [
    "start = timeit.default_timer()\n",
    "data_simple = data_simple.T\n",
    "result = is_pareto_efficient_simple(data_simple)\n",
    "data_list_simple = data_simple.tolist()\n",
    "paretoPoints=[]\n",
    "dominatedPoints=[]\n",
    "for i in range(len(data_list_simple)):\n",
    "    if result[i] == True:\n",
    "        paretoPoints.append(data_list_simple[i])\n",
    "    else:\n",
    "        dominatedPoints.append(data_list_simple[i])\n",
    "paretoPoints_simple = np.array(paretoPoints)\n",
    "dominatedPoints = np.array(dominatedPoints)\n",
    "stop = timeit.default_timer()\n",
    "\n",
    "print(\"Number of Pareto Optimal Points\", len(paretoPoints_simple))\n",
    "\n",
    "print(\"Pareto Optimal Points:\",paretoPoints_simple)\n",
    "\n",
    "print('Time:',stop-start)"
   ]
  },
  {
   "cell_type": "markdown",
   "metadata": {},
   "source": [
    "##### Pareto Efficient"
   ]
  },
  {
   "cell_type": "code",
   "execution_count": null,
   "metadata": {},
   "outputs": [],
   "source": [
    "start = timeit.default_timer()\n",
    "data_efficient = data_efficient.T\n",
    "result = is_pareto_efficient(data_efficient)\n",
    "data_list_efficient = data_efficient.tolist()\n",
    "paretoPoints=[]\n",
    "dominatedPoints=[]\n",
    "for i in range(len(data_list_efficient)):\n",
    "    if result[i] == True:\n",
    "        paretoPoints.append(data_list_efficient[i])\n",
    "    else:\n",
    "        dominatedPoints.append(data_list_efficient[i])\n",
    "paretoPoints_efficient = np.array(paretoPoints)\n",
    "dominatedPoints = np.array(dominatedPoints)\n",
    "stop = timeit.default_timer()\n",
    "\n",
    "print(\"Number of Pareto Optimal Points\", len(paretoPoints_efficient))\n",
    "\n",
    "print(\"Pareto Optimal Points:\",paretoPoints_efficient)\n",
    "\n",
    "print('Time:',stop-start)"
   ]
  },
  {
   "cell_type": "markdown",
   "metadata": {},
   "source": [
    "##### Compare pareto sets"
   ]
  },
  {
   "cell_type": "code",
   "execution_count": null,
   "metadata": {},
   "outputs": [],
   "source": [
    "compare_pareto_sets(paretoPoints_efficient,paretoPoints_dumb)"
   ]
  },
  {
   "cell_type": "markdown",
   "metadata": {},
   "source": [
    "Observations:\n",
    "    1. From spot checking, simple cull method gives the same pareto set, but in a different order, so can't use compare_pareto_sets function\n",
    "    2. All functions take similar time"
   ]
  },
  {
   "cell_type": "markdown",
   "metadata": {},
   "source": [
    "#### 4D data (1000 points)"
   ]
  },
  {
   "cell_type": "code",
   "execution_count": null,
   "metadata": {},
   "outputs": [],
   "source": [
    "data_4D_1k=np.random.rand(4,1000)\n",
    "data_SC = data_4D_1k\n",
    "data_dumb = data_4D_1k\n",
    "data_simple = data_4D_1k\n",
    "data_efficient = data_4D_1k"
   ]
  },
  {
   "cell_type": "markdown",
   "metadata": {},
   "source": [
    "##### Simple Cull"
   ]
  },
  {
   "cell_type": "code",
   "execution_count": null,
   "metadata": {},
   "outputs": [],
   "source": [
    "start = timeit.default_timer()\n",
    "data_SC = data_SC.T\n",
    "data_list_SC = data_SC.tolist()\n",
    "paretoPoints, dominatedPoints = simple_cull(data_list_SC, dominates)\n",
    "paretoPoints_SC = np.array(list(paretoPoints))\n",
    "dominatedPoints_SC = np.array(list(dominatedPoints))\n",
    "stop = timeit.default_timer()\n",
    "\n",
    "print(\"Number of Pareto Optimal Points\", len(paretoPoints_SC))\n",
    "\n",
    "print(\"Pareto Optimal Points:\",paretoPoints_SC)\n",
    "\n",
    "print('Time:',stop-start)"
   ]
  },
  {
   "cell_type": "markdown",
   "metadata": {},
   "source": [
    "##### Pareto Dumb"
   ]
  },
  {
   "cell_type": "code",
   "execution_count": null,
   "metadata": {},
   "outputs": [],
   "source": [
    "start = timeit.default_timer()\n",
    "data_dumb=data_dumb.T\n",
    "result = is_pareto_efficient_dumb(data_dumb)\n",
    "data_list_dumb = data_dumb.tolist()\n",
    "paretoPoints=[]\n",
    "dominatedPoints=[]\n",
    "for i in range(len(data_list_dumb)):\n",
    "    if result[i] == True:\n",
    "        paretoPoints.append(data_list_dumb[i])\n",
    "    else:\n",
    "        dominatedPoints.append(data_list_dumb[i])\n",
    "paretoPoints_dumb = np.array(paretoPoints)\n",
    "dominatedPoints = np.array(dominatedPoints)\n",
    "stop = timeit.default_timer()\n",
    "\n",
    "print(\"Number of Pareto Optimal Points\", len(paretoPoints_dumb))\n",
    "\n",
    "print(\"Pareto Optimal Points:\",paretoPoints_dumb)\n",
    "\n",
    "print('Time:',stop-start)"
   ]
  },
  {
   "cell_type": "markdown",
   "metadata": {},
   "source": [
    "##### Pareto Simple"
   ]
  },
  {
   "cell_type": "code",
   "execution_count": null,
   "metadata": {},
   "outputs": [],
   "source": [
    "start = timeit.default_timer()\n",
    "data_simple = data_simple.T\n",
    "result = is_pareto_efficient_simple(data_simple)\n",
    "data_list_simple = data_simple.tolist()\n",
    "paretoPoints=[]\n",
    "dominatedPoints=[]\n",
    "for i in range(len(data_list_simple)):\n",
    "    if result[i] == True:\n",
    "        paretoPoints.append(data_list_simple[i])\n",
    "    else:\n",
    "        dominatedPoints.append(data_list_simple[i])\n",
    "paretoPoints_simple = np.array(paretoPoints)\n",
    "dominatedPoints = np.array(dominatedPoints)\n",
    "stop = timeit.default_timer()\n",
    "\n",
    "print(\"Number of Pareto Optimal Points\", len(paretoPoints_simple))\n",
    "\n",
    "print(\"Pareto Optimal Points:\",paretoPoints_simple)\n",
    "\n",
    "print('Time:',stop-start)"
   ]
  },
  {
   "cell_type": "markdown",
   "metadata": {},
   "source": [
    "##### Pareto Efficient"
   ]
  },
  {
   "cell_type": "code",
   "execution_count": null,
   "metadata": {},
   "outputs": [],
   "source": [
    "start = timeit.default_timer()\n",
    "data_efficient = data_efficient.T\n",
    "result = is_pareto_efficient(data_efficient)\n",
    "data_list_efficient = data_efficient.tolist()\n",
    "paretoPoints=[]\n",
    "dominatedPoints=[]\n",
    "for i in range(len(data_list_efficient)):\n",
    "    if result[i] == True:\n",
    "        paretoPoints.append(data_list_efficient[i])\n",
    "    else:\n",
    "        dominatedPoints.append(data_list_efficient[i])\n",
    "paretoPoints_efficient = np.array(paretoPoints)\n",
    "dominatedPoints = np.array(dominatedPoints)\n",
    "stop = timeit.default_timer()\n",
    "\n",
    "print(\"Number of Pareto Optimal Points\", len(paretoPoints_efficient))\n",
    "\n",
    "print(\"Pareto Optimal Points:\",paretoPoints_efficient)\n",
    "\n",
    "print('Time:',stop-start)"
   ]
  },
  {
   "cell_type": "markdown",
   "metadata": {},
   "source": [
    "##### Compare Pareto Sets"
   ]
  },
  {
   "cell_type": "code",
   "execution_count": null,
   "metadata": {},
   "outputs": [],
   "source": [
    "compare_pareto_sets(paretoPoints_efficient,paretoPoints_dumb)"
   ]
  },
  {
   "cell_type": "markdown",
   "metadata": {},
   "source": [
    "Observations:\n",
    "    1. From spot checking, simple cull method gives the same pareto set, but in a different order, so can't use compare_pareto_sets function\n",
    "    2. All functions take similar time\n",
    "    3. As noted above, run times are trivial until looking at 1million points, at which point the pareto simple and pareto efficient functions still work"
   ]
  },
  {
   "cell_type": "markdown",
   "metadata": {},
   "source": [
    "#### 2D data (100 points) -- min costs\n",
    "\n",
    "Test just pareto simple and pareto efficient"
   ]
  },
  {
   "cell_type": "code",
   "execution_count": null,
   "metadata": {},
   "outputs": [],
   "source": [
    "from pareto_utils import(\n",
    "    compare_pareto_sets,\n",
    "    is_pareto_efficient_simple,\n",
    "    is_pareto_efficient)"
   ]
  },
  {
   "cell_type": "code",
   "execution_count": null,
   "metadata": {},
   "outputs": [],
   "source": [
    "data_2D_min=np.random.rand(2,100)\n",
    "data_simple_min = data_2D_min\n",
    "data_efficient_min = data_2D_min"
   ]
  },
  {
   "cell_type": "code",
   "execution_count": null,
   "metadata": {},
   "outputs": [],
   "source": [
    "plt.plot(data_2D_min[0,:],data_2D_min[1,:],'.b',label='Original Data')\n",
    "plt.xlabel('Objective 1')\n",
    "plt.ylabel('Object 2')\n",
    "plt.legend()"
   ]
  },
  {
   "cell_type": "markdown",
   "metadata": {},
   "source": [
    "##### Pareto simple"
   ]
  },
  {
   "cell_type": "code",
   "execution_count": null,
   "metadata": {},
   "outputs": [],
   "source": [
    "data_simple_min = data_simple_min.T\n",
    "result = is_pareto_efficient_simple(data_simple_min)\n",
    "data_list_simple_min = data_simple_min.tolist()\n",
    "paretoPoints=[]\n",
    "dominatedPoints=[]\n",
    "for i in range(len(data_list_simple_min)):\n",
    "    if result[i] == True:\n",
    "        paretoPoints.append(data_list_simple_min[i])\n",
    "    else:\n",
    "        dominatedPoints.append(data_list_simple_min[i])\n",
    "paretoPoints_simple = np.array(paretoPoints)\n",
    "dominatedPoints = np.array(dominatedPoints)\n",
    "plt.plot(paretoPoints_simple[:,0],paretoPoints_simple[:,1],'.r',label='Pareto Points')\n",
    "plt.plot(dominatedPoints[:,0],dominatedPoints[:,1],'.b',label='Dominated Points')\n",
    "plt.xlabel('Objective 1')\n",
    "plt.ylabel('Object 2')\n",
    "plt.title('Pareto Efficient Simple')\n",
    "plt.legend()\n",
    "print(\"Number of Pareto Optimal Points:\",len(paretoPoints_simple))\n",
    "print(\"Pareto Optimal Points:\",paretoPoints_simple)"
   ]
  },
  {
   "cell_type": "markdown",
   "metadata": {},
   "source": [
    "##### Pareto efficient"
   ]
  },
  {
   "cell_type": "code",
   "execution_count": null,
   "metadata": {},
   "outputs": [],
   "source": [
    "data_efficient_min = data_efficient_min.T\n",
    "result = is_pareto_efficient(data_efficient_min)\n",
    "data_list_efficient_min = data_efficient_min.tolist()\n",
    "paretoPoints=[]\n",
    "dominatedPoints=[]\n",
    "for i in range(len(data_list_efficient_min)):\n",
    "    if result[i] == True:\n",
    "        paretoPoints.append(data_list_efficient_min[i])\n",
    "    else:\n",
    "        dominatedPoints.append(data_list_efficient_min[i])\n",
    "paretoPoints_efficient = np.array(paretoPoints)\n",
    "dominatedPoints = np.array(dominatedPoints)\n",
    "plt.plot(paretoPoints_efficient[:,0],paretoPoints_efficient[:,1],'.r',label='Pareto Points')\n",
    "plt.plot(dominatedPoints[:,0],dominatedPoints[:,1],'.b',label='Dominated Points')\n",
    "plt.xlabel('Objective 1')\n",
    "plt.ylabel('Object 2')\n",
    "plt.title('Pareto Efficient')\n",
    "plt.legend()\n",
    "print(\"Number of Pareto Optimal Points:\",len(paretoPoints_efficient))\n",
    "print(\"Pareto Optimal Points:\",paretoPoints_efficient)"
   ]
  },
  {
   "cell_type": "markdown",
   "metadata": {},
   "source": [
    "##### Compare pareto sets"
   ]
  },
  {
   "cell_type": "code",
   "execution_count": null,
   "metadata": {},
   "outputs": [],
   "source": [
    "compare_pareto_sets(paretoPoints_efficient,paretoPoints_simple)"
   ]
  },
  {
   "cell_type": "markdown",
   "metadata": {},
   "source": [
    "#### Test find_pareto_set function"
   ]
  },
  {
   "cell_type": "code",
   "execution_count": null,
   "metadata": {},
   "outputs": [],
   "source": [
    "from pareto_utils import(\n",
    "    compare_pareto_sets,\n",
    "    is_pareto_efficient_simple,\n",
    "    is_pareto_efficient,\n",
    "    find_pareto_set)"
   ]
  },
  {
   "cell_type": "markdown",
   "metadata": {},
   "source": [
    "#### 2D data (100 points) -- min costs"
   ]
  },
  {
   "cell_type": "code",
   "execution_count": null,
   "metadata": {},
   "outputs": [],
   "source": [
    "data_2D_min=np.random.rand(2,100)\n",
    "data_simple_min = data_2D_min\n",
    "data_efficient_min = data_2D_min"
   ]
  },
  {
   "cell_type": "code",
   "execution_count": null,
   "metadata": {},
   "outputs": [],
   "source": [
    "plt.plot(data_2D_min[0,:],data_2D_min[1,:],'.b',label='Original Data')\n",
    "plt.xlabel('Objective 1')\n",
    "plt.ylabel('Object 2')\n",
    "plt.legend()"
   ]
  },
  {
   "cell_type": "code",
   "execution_count": null,
   "metadata": {},
   "outputs": [],
   "source": [
    "data_simple_min = data_simple_min.T\n",
    "result,paretoPoints,dominatedPoints=find_pareto_set(data_simple_min,is_pareto_efficient_simple)\n",
    "plt.plot(paretoPoints[:,0],paretoPoints[:,1],'.r',label='Pareto Points')\n",
    "plt.plot(dominatedPoints[:,0],dominatedPoints[:,1],'.b',label='Dominated Points')\n",
    "plt.xlabel('Objective 1')\n",
    "plt.ylabel('Object 2')\n",
    "plt.title('Pareto Efficient Simple')\n",
    "plt.legend()\n",
    "print(\"Number of Pareto Optimal Points:\",len(paretoPoints))\n",
    "print(\"Pareto Optimal Points:\",paretoPoints)\n",
    "print(\"Dominated Points:\",dominatedPoints)"
   ]
  },
  {
   "cell_type": "code",
   "execution_count": null,
   "metadata": {},
   "outputs": [],
   "source": [
    "data_efficient_min = data_efficient_min.T\n",
    "result,paretoPoints,dominatedPoints=find_pareto_set(data_efficient_min,is_pareto_efficient_simple)\n",
    "plt.plot(paretoPoints[:,0],paretoPoints[:,1],'.r',label='Pareto Points')\n",
    "plt.plot(dominatedPoints[:,0],dominatedPoints[:,1],'.b',label='Dominated Points')\n",
    "plt.xlabel('Objective 1')\n",
    "plt.ylabel('Object 2')\n",
    "plt.title('Pareto Efficient Simple')\n",
    "plt.legend()\n",
    "print(\"Number of Pareto Optimal Points:\",len(paretoPoints))\n",
    "print(\"Pareto Optimal Points:\",paretoPoints)\n",
    "print(\"Dominated Points:\",dominatedPoints)"
   ]
  },
  {
   "cell_type": "markdown",
   "metadata": {},
   "source": [
    "#### 2D data (100 points) -- max costs"
   ]
  },
  {
   "cell_type": "code",
   "execution_count": null,
   "metadata": {},
   "outputs": [],
   "source": [
    "data_2D_min=np.random.rand(2,100)\n",
    "data_simple_min = data_2D_min\n",
    "data_efficient_min = data_2D_min"
   ]
  },
  {
   "cell_type": "code",
   "execution_count": null,
   "metadata": {},
   "outputs": [],
   "source": [
    "plt.plot(data_2D_min[0,:],data_2D_min[1,:],'.b',label='Original Data')\n",
    "plt.xlabel('Objective 1')\n",
    "plt.ylabel('Object 2')\n",
    "plt.legend()"
   ]
  },
  {
   "cell_type": "code",
   "execution_count": null,
   "metadata": {},
   "outputs": [],
   "source": [
    "data_simple_min = data_simple_min.T\n",
    "result,paretoPoints,dominatedPoints=find_pareto_set(data_simple_min,is_pareto_efficient_simple,True)\n",
    "plt.plot(paretoPoints[:,0],paretoPoints[:,1],'.r',label='Pareto Points')\n",
    "plt.plot(dominatedPoints[:,0],dominatedPoints[:,1],'.b',label='Dominated Points')\n",
    "plt.xlabel('Objective 1')\n",
    "plt.ylabel('Object 2')\n",
    "plt.title('Pareto Efficient Simple')\n",
    "plt.legend()\n",
    "print(\"Number of Pareto Optimal Points:\",len(paretoPoints))\n",
    "print(\"Pareto Optimal Points:\",paretoPoints)\n",
    "print(\"Dominated Points:\",dominatedPoints)"
   ]
  },
  {
   "cell_type": "code",
   "execution_count": null,
   "metadata": {},
   "outputs": [],
   "source": [
    "data_efficient_min = data_efficient_min.T\n",
    "result,paretoPoints,dominatedPoints=find_pareto_set(data_efficient_min,is_pareto_efficient_simple,True)\n",
    "plt.plot(paretoPoints[:,0],paretoPoints[:,1],'.r',label='Pareto Points')\n",
    "plt.plot(dominatedPoints[:,0],dominatedPoints[:,1],'.b',label='Dominated Points')\n",
    "plt.xlabel('Objective 1')\n",
    "plt.ylabel('Object 2')\n",
    "plt.title('Pareto Efficient Simple')\n",
    "plt.legend()\n",
    "print(\"Number of Pareto Optimal Points:\",len(paretoPoints))\n",
    "print(\"Pareto Optimal Points:\",paretoPoints)\n",
    "print(\"Dominated Points:\",dominatedPoints)"
   ]
  },
  {
   "cell_type": "code",
   "execution_count": null,
   "metadata": {},
   "outputs": [],
   "source": []
  }
 ],
 "metadata": {
  "kernelspec": {
   "display_name": "Python 3",
   "language": "python",
   "name": "python3"
  },
  "language_info": {
   "codemirror_mode": {
    "name": "ipython",
    "version": 3
   },
   "file_extension": ".py",
   "mimetype": "text/x-python",
   "name": "python",
   "nbconvert_exporter": "python",
   "pygments_lexer": "ipython3",
   "version": "3.7.6"
  }
 },
 "nbformat": 4,
 "nbformat_minor": 4
}
